{
 "cells": [
  {
   "cell_type": "markdown",
   "metadata": {},
   "source": [
    "# **Detección de Armas - Open Data**  \n",
    "\n",
    "📌 [**Información del Dataset**](https://dasci.es/es/transferencia/open-data/deteccion-de-armas/)  \n",
    "\n",
    "Este proyecto se centra en la aplicación de **Data Augmentation** mediante **Diffusion Models** sobre este **conjunto de datos específico**. Nuestro objetivo es evaluar si estas técnicas pueden mejorar el rendimiento y los resultados en una tarea concreta de detección."
   ]
  },
  {
   "cell_type": "markdown",
   "metadata": {},
   "source": [
    "--- \n",
    "Este dataset cuenta con múltiples sub-datasets, donde nos encontramos con la siguiente estructura de directorios:\n",
    "\n",
    "    Knife_classification  License.md             Pistol_detection  Weapons_and_similar_handled_objects/\n",
    "    Knife_detection       Pistol_classification  README.md         pictures\n",
    "\n",
    "Debido a las características del problema en concreto, solo trabajaremos con la parte de Object Detection (OD), es decir, las siguientes clases:\n",
    "\n",
    "    Knife_detection                 \n",
    "    Pistol_detection \n",
    "    Weapons_and_similar_handled_objects/Sohas_weapon-Detection-YOLOv5\n",
    "\n",
    "Para empezar nos centraremos en:\n",
    "\n",
    "    Weapons_and_similar_handled_objects/Sohas_weapon-Detection-YOLOv5"
   ]
  },
  {
   "cell_type": "code",
   "execution_count": 1,
   "metadata": {},
   "outputs": [],
   "source": [
    "data_path = \"/mnt/homeGPU/azapata/TFG/datasets/gunsUGR/OD-WeaponDetection-master/Weapons_and_similar_handled_objects/Sohas_weapon-Detection-YOLOv5/obj_train_data\"\n",
    "images_path = \"/mnt/homeGPU/azapata/TFG/datasets/gunsUGR/OD-WeaponDetection-master/Weapons_and_similar_handled_objects/Sohas_weapon-Detection-YOLOv5/obj_train_data/images/train\"\n",
    "labels_path = \"/mnt/homeGPU/azapata/TFG/datasets/gunsUGR/OD-WeaponDetection-master/Weapons_and_similar_handled_objects/Sohas_weapon-Detection-YOLOv5/obj_train_data/labels/train\""
   ]
  },
  {
   "cell_type": "markdown",
   "metadata": {},
   "source": [
    "El dataset con el que estamos trabajando cuenta con:\n",
    "\n",
    "- images\n",
    "    - test ==> 857 images\n",
    "    - train ==> 5002 images\n",
    "- labels\n",
    "    - test ==> 857 images\n",
    "    - train ==> 5002 images\n"
   ]
  },
  {
   "cell_type": "markdown",
   "metadata": {},
   "source": [
    "Vamos a cargar YOLO preentrenado y a evaluar sin finetunning directamente"
   ]
  },
  {
   "cell_type": "code",
   "execution_count": null,
   "metadata": {},
   "outputs": [],
   "source": [
    "# # !pip install sympy\n",
    "# # !pip install pandas>=1.1.4\n",
    "# # !pip install seaborn>=0.11.0\n",
    "\n",
    "# # !pip install opencv-python>=4.6.0\n",
    "# # !pip install pandas>=1.1.4\n",
    "# # !pip install seaborn>=0.11.0\n",
    "\n",
    "# !pip install filelock\n",
    "# !pip install networkx\n",
    "# !pip install opencv-python>=4.6.0\n",
    "# !pip install pandas>=1.1.4\n",
    "# !pip install seaborn>=0.11.0\n"
   ]
  },
  {
   "cell_type": "code",
   "execution_count": 4,
   "metadata": {},
   "outputs": [],
   "source": [
    "from ultralytics import YOLO\n",
    "\n",
    "# Cargar el modelo preentrenado de YOLOv8\n",
    "model = YOLO(\"yolov8l.pt\")  \n",
    "\n",
    "# Entrenar en tu dataset\n",
    "model.train(\n",
    "    data=\"/mnt/homeGPU/azapata/TFG/datasets/gunsUGR/OD-WeaponDetection-master/Weapons_and_similar_handled_objects/Sohas_weapon-Detection-YOLOv5/dataset.yaml\",\n",
    "    epochs=50,  # Ajusta según necesidad\n",
    "    # batch=8,  # Ajusta según la GPU disponible\n",
    "    # imgsz=640,  # Tamaño de imagen (ajusta si lo necesitas)\n",
    "    device=\"cuda\",  # Entrenamiento en GPU\n",
    "    # workers=2,  # Número de hilos de carga de datos\n",
    "    # optimizer=\"SGD\",  # O prueba AdamW\n",
    "    val=True  # Evalúa después de entrenar\n",
    ")\n"
   ]
  },
  {
   "cell_type": "code",
   "execution_count": null,
   "metadata": {},
   "outputs": [
    {
     "name": "stdout",
     "output_type": "stream",
     "text": [
      "Ultralytics 8.3.73 🚀 Python-3.8.20 torch-1.7.1+cu110 CUDA:0 (NVIDIA TITAN Xp, 12196MiB)\n",
      "YOLOv8l summary (fused): 268 layers, 43,668,288 parameters, 0 gradients, 165.2 GFLOPs\n"
     ]
    },
    {
     "name": "stderr",
     "output_type": "stream",
     "text": [
      "\u001b[34m\u001b[1mval: \u001b[0mScanning /mnt/homeGPU/azapata/TFG/datasets/gunsUGR/OD-WeaponDetection-master/Weapons_and_similar_handled_objects/Sohas_weapon-Detection-YOLOv5/obj_train_data/labels/test.\u001b[0m\n"
     ]
    },
    {
     "name": "stdout",
     "output_type": "stream",
     "text": [
      "\u001b[34m\u001b[1mval: \u001b[0mNew cache created: /mnt/homeGPU/azapata/TFG/datasets/gunsUGR/OD-WeaponDetection-master/Weapons_and_similar_handled_objects/Sohas_weapon-Detection-YOLOv5/obj_train_data/labels/test.cache\n"
     ]
    },
    {
     "name": "stderr",
     "output_type": "stream",
     "text": [
      "                 Class     Images  Instances      Box(P          R      mAP50  mAP50-95): 100%|██████████| 54/54 [00:19<00:00,  2.83it/s]\n"
     ]
    },
    {
     "name": "stdout",
     "output_type": "stream",
     "text": [
      "                   all        857        857   0.000744     0.0109   0.000387   0.000119\n",
      "                person         85         85    0.00161     0.0588   0.000881   0.000378\n",
      "               bicycle        140        140          0          0          0          0\n",
      "                   car        452        452    0.00285    0.00664    0.00144   0.000336\n",
      "            motorcycle         71         71          0          0          0          0\n",
      "              airplane         52         52          0          0          0          0\n",
      "                   bus         57         57          0          0          0          0\n",
      "Speed: 0.7ms preprocess, 11.6ms inference, 0.0ms loss, 1.7ms postprocess per image\n",
      "Results saved to \u001b[1m/mnt/homeGPU/azapata/runs/detect/val10\u001b[0m\n",
      "📊 Precisión (mAP@50): 0.0004\n",
      "📊 Precisión (mAP@50-95): 0.0001\n",
      "📊 Precisión promedio por clase: [ 0.00037761           0   0.0003357           0           0           0  0.00011888  0.00011888  0.00011888  0.00011888  0.00011888  0.00011888  0.00011888  0.00011888  0.00011888  0.00011888  0.00011888  0.00011888  0.00011888  0.00011888  0.00011888  0.00011888  0.00011888  0.00011888  0.00011888  0.00011888\n",
      "  0.00011888  0.00011888  0.00011888  0.00011888  0.00011888  0.00011888  0.00011888  0.00011888  0.00011888  0.00011888  0.00011888  0.00011888  0.00011888  0.00011888  0.00011888  0.00011888  0.00011888  0.00011888  0.00011888  0.00011888  0.00011888  0.00011888  0.00011888  0.00011888  0.00011888  0.00011888\n",
      "  0.00011888  0.00011888  0.00011888  0.00011888  0.00011888  0.00011888  0.00011888  0.00011888  0.00011888  0.00011888  0.00011888  0.00011888  0.00011888  0.00011888  0.00011888  0.00011888  0.00011888  0.00011888  0.00011888  0.00011888  0.00011888  0.00011888  0.00011888  0.00011888  0.00011888  0.00011888\n",
      "  0.00011888  0.00011888]\n"
     ]
    }
   ],
   "source": [
    "from ultralytics import YOLO\n",
    "\n",
    "# Cargar el modelo entrenado\n",
    "model = YOLO(\"/mnt/homeGPU/azapata/TFG/runs/detect/train/weights/best.pt\")  # Ruta donde se guardó el modelo entrenado\n",
    "\n",
    "# Evaluar en el conjunto de validación\n",
    "metrics = model.val(\n",
    "    data=\"/mnt/homeGPU/azapata/TFG/datasets/gunsUGR/OD-WeaponDetection-master/Weapons_and_similar_handled_objects/Sohas_weapon-Detection-YOLOv5/dataset.yaml\", \n",
    "    split=\"val\",\n",
    "    device=\"cuda\"\n",
    ")\n",
    "\n",
    "# Mostrar métricas clave\n",
    "print(f\"📊 Precisión (mAP@50): {metrics.box.map50:.4f}\")\n",
    "print(f\"📊 Precisión (mAP@50-95): {metrics.box.map:.4f}\")\n",
    "print(f\"📊 Precisión promedio por clase: {metrics.box.maps}\")\n"
   ]
  },
  {
   "cell_type": "markdown",
   "metadata": {},
   "source": [
    "\n",
    "\n",
    "Como es lógico, al no tener las mismas clases, los resultados son catastróficos. Vamos a pasar a hacer finetuning con el dataset para poder evaluar y obtener un baseline.\n"
   ]
  },
  {
   "cell_type": "code",
   "execution_count": 2,
   "metadata": {},
   "outputs": [
    {
     "name": "stdout",
     "output_type": "stream",
     "text": [
      "True\n",
      "1\n",
      "NVIDIA TITAN Xp\n",
      "nvcc: NVIDIA (R) Cuda compiler driver\n",
      "Copyright (c) 2005-2020 NVIDIA Corporation\n",
      "Built on Wed_Jul_22_19:09:09_PDT_2020\n",
      "Cuda compilation tools, release 11.0, V11.0.221\n",
      "Build cuda_11.0_bu.TC445_37.28845127_0\n"
     ]
    }
   ],
   "source": [
    "!python -c \"import torch; print(torch.cuda.is_available())\"\n",
    "\n",
    "!python -c \"import torch; print(torch.cuda.device_count())\"\n",
    "!python -c \"import torch; print(torch.cuda.get_device_name(0))\"\n",
    "\n",
    "!nvcc --version"
   ]
  },
  {
   "cell_type": "markdown",
   "metadata": {},
   "source": [
    "---\n",
    "# **Resultados Fine-Tuning de YOLO con las clases del dataset original**\n",
    "Entrenamiento llevado a cabo con un script separado (TrainModels/Weapons/fineTunningOG.py)\n",
    "\n",
    "\n",
    "                 Class     Images  Instances      Box(P          R      mAP50  mAP50-95): 100%|██████████| 215/215 [00:19<00:00, 10.89it/s]                   \n",
    "                 all        857        857      0.848      0.789      0.886       0.73\n",
    "                pistol         85         85       0.91      0.918      0.952      0.783\n",
    "            smartphone        140        140      0.939      0.663      0.922      0.801\n",
    "                 knife        452        452       0.97      0.903      0.973      0.676\n",
    "              monedero         71         71      0.642      0.789      0.762       0.63\n",
    "               billete         52         52      0.851      0.885      0.926      0.823\n",
    "               tarjeta         57         57      0.777      0.579      0.782      0.665"
   ]
  },
  {
   "cell_type": "markdown",
   "metadata": {},
   "source": [
    "---\n",
    "# **Resultados Fine-Tuning de YOLO con las clases del dataset original con DA clásico**"
   ]
  }
 ],
 "metadata": {
  "kernelspec": {
   "display_name": "Python 3 (ipykernel)",
   "language": "python",
   "name": "python3"
  }
 },
 "nbformat": 4,
 "nbformat_minor": 2
}
